{
 "cells": [
  {
   "cell_type": "markdown",
   "id": "cb515521-3edd-45f9-a347-4bc887359577",
   "metadata": {},
   "source": [
    "# Github Performance Metrics- Issues\n",
    "\n",
    "**Activity by Repo**"
   ]
  },
  {
   "cell_type": "markdown",
   "id": "a7df4d7c-38a2-47f5-a242-06569cf9bc8b",
   "metadata": {},
   "source": [
    "This notebook will aim to query the Augur DB to access the neccessary information to be able to get the following issue metrics dirived from the GitHub Community Metrics working document https://docs.google.com/document/d/1Yocr6fk0J8EsVZnJwoIl3kRQaI94tI-XHe7VSMFT0yM/edit?usp=sharing"
   ]
  },
  {
   "cell_type": "markdown",
   "id": "4ab707e8-d190-4f73-aa2a-584da08533a6",
   "metadata": {},
   "source": [
    "Any necessary computations from the data to get the metric value will be done as the queries are determined"
   ]
  },
  {
   "cell_type": "code",
   "execution_count": 1,
   "id": "054d86a9-d831-42b6-9db9-de2627438470",
   "metadata": {
    "ExecuteTime": {
     "end_time": "2021-09-16T16:59:16.300600Z",
     "start_time": "2021-09-16T16:59:15.954596Z"
    },
    "tags": [
     "hide-input"
    ]
   },
   "outputs": [],
   "source": [
    "import psycopg2\n",
    "import pandas as pd \n",
    "import sqlalchemy as salc\n",
    "import json\n",
    "import os\n",
    "import numpy as np\n",
    "import matplotlib.pyplot as plt\n",
    "plt.rcParams['figure.figsize'] = (15, 5)\n",
    "import warnings\n",
    "warnings.filterwarnings('ignore')\n",
    "\n",
    "with open(\"../../config_temp.json\") as config_file:\n",
    "    config = json.load(config_file)"
   ]
  },
  {
   "cell_type": "code",
   "execution_count": 2,
   "id": "efbf5892-3b0f-4cbe-be96-0e24918ce1bd",
   "metadata": {
    "ExecuteTime": {
     "end_time": "2021-09-16T16:59:07.250903Z",
     "start_time": "2021-09-16T16:59:07.222380Z"
    },
    "tags": [
     "hide-input"
    ]
   },
   "outputs": [],
   "source": [
    "database_connection_string = 'postgresql+psycopg2://{}:{}@{}:{}/{}'.format(config['user'], config['password'], config['host'], config['port'], config['database'])\n",
    "\n",
    "dbschema='augur_data'\n",
    "engine = salc.create_engine(\n",
    "    database_connection_string,\n",
    "    connect_args={'options': '-csearch_path={}'.format(dbschema)})"
   ]
  },
  {
   "cell_type": "code",
   "execution_count": 3,
   "id": "02890a5a-5737-406a-bc0a-87210c4e7f54",
   "metadata": {
    "ExecuteTime": {
     "end_time": "2021-09-16T16:59:09.588563Z",
     "start_time": "2021-09-16T16:59:07.252878Z"
    },
    "tags": [
     "hide-output"
    ]
   },
   "outputs": [
    {
     "name": "stdout",
     "output_type": "stream",
     "text": [
      "[25440, 25448]\n"
     ]
    }
   ],
   "source": [
    "#add your repo name(s) here of the repo(s) you want to query if known (and in the database)\n",
    "repo_name_set = ['augur', 'grimoirelab']\n",
    "repo_set = []\n",
    "\n",
    "for repo_name in repo_name_set:\n",
    "    repo_query = salc.sql.text(f\"\"\"\n",
    "                 SET SCHEMA 'augur_data';\n",
    "                 SELECT \n",
    "                    b.repo_id\n",
    "                FROM\n",
    "                    repo_groups a,\n",
    "                    repo b\n",
    "                WHERE\n",
    "                    a.repo_group_id = b.repo_group_id AND\n",
    "                    b.repo_name = \\'{repo_name}\\'\n",
    "        \"\"\")\n",
    "\n",
    "    t = engine.execute(repo_query)\n",
    "    repo_id =t.mappings().all()[0].get('repo_id')\n",
    "    repo_set.append(repo_id)\n",
    "print(repo_set)"
   ]
  },
  {
   "cell_type": "code",
   "execution_count": 4,
   "id": "17e1a57e-53e3-4ef9-89cf-016908db01ce",
   "metadata": {
    "ExecuteTime": {
     "end_time": "2021-09-16T16:59:09.592206Z",
     "start_time": "2021-09-16T16:59:09.590239Z"
    }
   },
   "outputs": [],
   "source": [
    "#Take this out of quotes if you want to manually assign a repo_id number(s)\n",
    "#repo_set = [25440]"
   ]
  },
  {
   "cell_type": "markdown",
   "id": "0676d666-d0ed-45d5-a2c2-23bae240429f",
   "metadata": {},
   "source": [
    "## Query for Issue Analysis"
   ]
  },
  {
   "cell_type": "code",
   "execution_count": 5,
   "id": "6f7cc389-be7c-4bce-8b2e-d2df13cdf6e9",
   "metadata": {
    "ExecuteTime": {
     "end_time": "2021-09-16T16:59:11.266061Z",
     "start_time": "2021-09-16T16:59:09.593483Z"
    },
    "tags": [
     "hide-input",
     "hide-output"
    ]
   },
   "outputs": [
    {
     "data": {
      "text/html": [
       "<div>\n",
       "<style scoped>\n",
       "    .dataframe tbody tr th:only-of-type {\n",
       "        vertical-align: middle;\n",
       "    }\n",
       "\n",
       "    .dataframe tbody tr th {\n",
       "        vertical-align: top;\n",
       "    }\n",
       "\n",
       "    .dataframe thead th {\n",
       "        text-align: right;\n",
       "    }\n",
       "</style>\n",
       "<table border=\"1\" class=\"dataframe\">\n",
       "  <thead>\n",
       "    <tr style=\"text-align: right;\">\n",
       "      <th></th>\n",
       "      <th>repo_name</th>\n",
       "      <th>issue</th>\n",
       "      <th>issue_number</th>\n",
       "      <th>gh_issue</th>\n",
       "      <th>created</th>\n",
       "      <th>closed</th>\n",
       "    </tr>\n",
       "  </thead>\n",
       "  <tbody>\n",
       "    <tr>\n",
       "      <th>0</th>\n",
       "      <td>augur</td>\n",
       "      <td>340115</td>\n",
       "      <td>28</td>\n",
       "      <td>213149529</td>\n",
       "      <td>2017-03-09 20:06:18</td>\n",
       "      <td>2017-04-07 21:18:01</td>\n",
       "    </tr>\n",
       "    <tr>\n",
       "      <th>1</th>\n",
       "      <td>augur</td>\n",
       "      <td>343231</td>\n",
       "      <td>886</td>\n",
       "      <td>682259157</td>\n",
       "      <td>2020-08-20 00:09:30</td>\n",
       "      <td>2020-08-20 00:16:50</td>\n",
       "    </tr>\n",
       "    <tr>\n",
       "      <th>2</th>\n",
       "      <td>augur</td>\n",
       "      <td>343216</td>\n",
       "      <td>880</td>\n",
       "      <td>679627659</td>\n",
       "      <td>2020-08-15 19:11:45</td>\n",
       "      <td>2020-08-17 14:30:04</td>\n",
       "    </tr>\n",
       "    <tr>\n",
       "      <th>3</th>\n",
       "      <td>augur</td>\n",
       "      <td>343467</td>\n",
       "      <td>967</td>\n",
       "      <td>724668885</td>\n",
       "      <td>2020-10-19 14:21:08</td>\n",
       "      <td>2020-10-19 14:21:34</td>\n",
       "    </tr>\n",
       "    <tr>\n",
       "      <th>4</th>\n",
       "      <td>augur</td>\n",
       "      <td>342738</td>\n",
       "      <td>740</td>\n",
       "      <td>628534692</td>\n",
       "      <td>2020-06-01 15:34:33</td>\n",
       "      <td>2020-08-20 10:48:14</td>\n",
       "    </tr>\n",
       "  </tbody>\n",
       "</table>\n",
       "</div>"
      ],
      "text/plain": [
       "  repo_name   issue  issue_number   gh_issue             created  \\\n",
       "0     augur  340115            28  213149529 2017-03-09 20:06:18   \n",
       "1     augur  343231           886  682259157 2020-08-20 00:09:30   \n",
       "2     augur  343216           880  679627659 2020-08-15 19:11:45   \n",
       "3     augur  343467           967  724668885 2020-10-19 14:21:08   \n",
       "4     augur  342738           740  628534692 2020-06-01 15:34:33   \n",
       "\n",
       "               closed  \n",
       "0 2017-04-07 21:18:01  \n",
       "1 2020-08-20 00:16:50  \n",
       "2 2020-08-17 14:30:04  \n",
       "3 2020-10-19 14:21:34  \n",
       "4 2020-08-20 10:48:14  "
      ]
     },
     "execution_count": 5,
     "metadata": {},
     "output_type": "execute_result"
    }
   ],
   "source": [
    "df_issues = pd.DataFrame()\n",
    "\n",
    "for repo_id in repo_set: \n",
    "\n",
    "    pr_query = salc.sql.text(f\"\"\"\n",
    "                SELECT\n",
    "                    r.repo_name,\n",
    "\t\t\t\t\ti.issue_id AS issue, \n",
    "\t\t\t\t\ti.gh_issue_number AS issue_number,\n",
    "\t\t\t\t\ti.gh_issue_id AS gh_issue,\n",
    "\t\t\t\t\ti.created_at AS created, \n",
    "\t\t\t\t\ti.closed_at AS closed\n",
    "                FROM\n",
    "                \trepo r,\n",
    "                    issues i\n",
    "                WHERE\n",
    "                \tr.repo_id = i.repo_id AND\n",
    "                    i.repo_id = \\'{repo_id}\\'\n",
    "        \"\"\")\n",
    "    df_current_repo = pd.read_sql(pr_query, con=engine)\n",
    "    df_issues = pd.concat([df_issues, df_current_repo])\n",
    "\n",
    "df_issues = df_issues.reset_index()\n",
    "df_issues.drop(\"index\", axis=1, inplace=True)\n",
    "        \n",
    "df_issues.head()"
   ]
  },
  {
   "cell_type": "code",
   "execution_count": 6,
   "id": "db7f7fc5-678f-4eba-be23-036438e85e80",
   "metadata": {
    "ExecuteTime": {
     "end_time": "2021-09-16T16:59:13.129269Z",
     "start_time": "2021-09-16T16:59:11.267270Z"
    },
    "tags": [
     "hide-input",
     "hide-output"
    ]
   },
   "outputs": [
    {
     "data": {
      "text/html": [
       "<div>\n",
       "<style scoped>\n",
       "    .dataframe tbody tr th:only-of-type {\n",
       "        vertical-align: middle;\n",
       "    }\n",
       "\n",
       "    .dataframe tbody tr th {\n",
       "        vertical-align: top;\n",
       "    }\n",
       "\n",
       "    .dataframe thead th {\n",
       "        text-align: right;\n",
       "    }\n",
       "</style>\n",
       "<table border=\"1\" class=\"dataframe\">\n",
       "  <thead>\n",
       "    <tr style=\"text-align: right;\">\n",
       "      <th></th>\n",
       "      <th>repo_name</th>\n",
       "      <th>issue_id</th>\n",
       "      <th>issue_msg_ref_id</th>\n",
       "      <th>created_at</th>\n",
       "      <th>msg_time</th>\n",
       "      <th>comment_text</th>\n",
       "    </tr>\n",
       "  </thead>\n",
       "  <tbody>\n",
       "    <tr>\n",
       "      <th>0</th>\n",
       "      <td>augur</td>\n",
       "      <td>339455</td>\n",
       "      <td>1199959</td>\n",
       "      <td>2020-04-17 21:25:27</td>\n",
       "      <td>2018-08-11 20:49:22</td>\n",
       "      <td>Is there a reason requirements.txt was removed?</td>\n",
       "    </tr>\n",
       "    <tr>\n",
       "      <th>1</th>\n",
       "      <td>augur</td>\n",
       "      <td>339455</td>\n",
       "      <td>1199960</td>\n",
       "      <td>2020-04-17 21:25:27</td>\n",
       "      <td>2018-08-12 16:47:29</td>\n",
       "      <td>I did not intend to delete this file.</td>\n",
       "    </tr>\n",
       "    <tr>\n",
       "      <th>2</th>\n",
       "      <td>augur</td>\n",
       "      <td>339455</td>\n",
       "      <td>1199961</td>\n",
       "      <td>2020-04-17 21:25:27</td>\n",
       "      <td>2019-01-17 18:04:57</td>\n",
       "      <td>Was this a merge conflict resolution?  I think...</td>\n",
       "    </tr>\n",
       "    <tr>\n",
       "      <th>3</th>\n",
       "      <td>augur</td>\n",
       "      <td>339455</td>\n",
       "      <td>1199962</td>\n",
       "      <td>2020-04-17 21:25:27</td>\n",
       "      <td>2019-01-17 18:16:36</td>\n",
       "      <td>Actually, @gabe-heim had made this change earl...</td>\n",
       "    </tr>\n",
       "    <tr>\n",
       "      <th>4</th>\n",
       "      <td>augur</td>\n",
       "      <td>339455</td>\n",
       "      <td>1199963</td>\n",
       "      <td>2020-04-17 21:25:27</td>\n",
       "      <td>2019-06-13 12:30:55</td>\n",
       "      <td>This was the error message I got: \\r\\nYou can ...</td>\n",
       "    </tr>\n",
       "  </tbody>\n",
       "</table>\n",
       "</div>"
      ],
      "text/plain": [
       "  repo_name  issue_id  issue_msg_ref_id          created_at  \\\n",
       "0     augur    339455           1199959 2020-04-17 21:25:27   \n",
       "1     augur    339455           1199960 2020-04-17 21:25:27   \n",
       "2     augur    339455           1199961 2020-04-17 21:25:27   \n",
       "3     augur    339455           1199962 2020-04-17 21:25:27   \n",
       "4     augur    339455           1199963 2020-04-17 21:25:27   \n",
       "\n",
       "             msg_time                                       comment_text  \n",
       "0 2018-08-11 20:49:22   Is there a reason requirements.txt was removed?   \n",
       "1 2018-08-12 16:47:29             I did not intend to delete this file.   \n",
       "2 2019-01-17 18:04:57  Was this a merge conflict resolution?  I think...  \n",
       "3 2019-01-17 18:16:36  Actually, @gabe-heim had made this change earl...  \n",
       "4 2019-06-13 12:30:55  This was the error message I got: \\r\\nYou can ...  "
      ]
     },
     "execution_count": 6,
     "metadata": {},
     "output_type": "execute_result"
    }
   ],
   "source": [
    "df_issues_comments = pd.DataFrame()\n",
    "\n",
    "for repo_id in repo_set: \n",
    "\n",
    "    pr_query = salc.sql.text(f\"\"\"\n",
    "                SELECT\n",
    "                    r.repo_name,\n",
    "                    irm.issue_id,\n",
    "                    irm.issue_msg_ref_id,\n",
    "                    i.created_at,\n",
    "                    m.msg_timestamp msg_time,\n",
    "\t\t\t\t\tm.msg_text comment_text\n",
    "                FROM\n",
    "                \trepo r,\n",
    "                    issues i,\n",
    "                    issue_message_ref irm, \n",
    "                    message m \n",
    "                WHERE\n",
    "                \tm.msg_id = irm.msg_id AND\n",
    "                    irm.issue_id = i.issue_id AND\n",
    "                \ti.repo_id = r.repo_id AND\n",
    "                    r.repo_id = \\'{repo_id}\\'\n",
    "        \"\"\")\n",
    "    df_current_repo = pd.read_sql(pr_query, con=engine)\n",
    "    df_issues_comments = pd.concat([df_issues_comments, df_current_repo])\n",
    "\n",
    "df_issues_comments = df_issues_comments.reset_index()\n",
    "df_issues_comments.drop(\"index\", axis=1, inplace=True)\n",
    "        \n",
    "df_issues_comments.head()"
   ]
  },
  {
   "cell_type": "code",
   "execution_count": 7,
   "id": "732b0a8a-8db3-47c1-acb1-1a995b141380",
   "metadata": {
    "ExecuteTime": {
     "end_time": "2021-09-16T16:59:13.140220Z",
     "start_time": "2021-09-16T16:59:13.131474Z"
    }
   },
   "outputs": [],
   "source": [
    "#IF YOU ONLY WANT TO LOOK AT A ONE OF THE REPOS QUERIED \n",
    "repo_focus = 'augur'\n",
    "df_issues_focus = df_issues[df_issues['repo_name'] == repo_focus]\n",
    "df_issues_focus = df_issues_focus.sort_values(by= \"created\")\n",
    "df_issues_focus = df_issues_focus.reset_index(drop=True)"
   ]
  },
  {
   "cell_type": "markdown",
   "id": "3be85739-bfb6-4f67-ad87-5e45585e74f9",
   "metadata": {},
   "source": [
    "## Median Time to Close Issues\n",
    "One of the performance metrics we would like to track is the median time taken to close issues. From the `issues` table, we have `created` and `closed` timestamps, the difference between the two will give us the time taken to close a given issue."
   ]
  },
  {
   "cell_type": "code",
   "execution_count": 8,
   "id": "d2b5e889-e637-4c88-8346-868c636a84fe",
   "metadata": {
    "ExecuteTime": {
     "end_time": "2021-09-16T16:59:13.150335Z",
     "start_time": "2021-09-16T16:59:13.144328Z"
    }
   },
   "outputs": [],
   "source": [
    "# Calculate the time taken to close an issue\n",
    "df_issues_focus['time_to_close'] = (df_issues_focus.closed - df_issues_focus.created)"
   ]
  },
  {
   "cell_type": "code",
   "execution_count": 9,
   "id": "a37b7024-3b0a-4bf7-8926-16ee21e33027",
   "metadata": {
    "ExecuteTime": {
     "end_time": "2021-09-16T16:59:13.169174Z",
     "start_time": "2021-09-16T16:59:13.153655Z"
    }
   },
   "outputs": [
    {
     "data": {
      "text/html": [
       "<div>\n",
       "<style scoped>\n",
       "    .dataframe tbody tr th:only-of-type {\n",
       "        vertical-align: middle;\n",
       "    }\n",
       "\n",
       "    .dataframe tbody tr th {\n",
       "        vertical-align: top;\n",
       "    }\n",
       "\n",
       "    .dataframe thead th {\n",
       "        text-align: right;\n",
       "    }\n",
       "</style>\n",
       "<table border=\"1\" class=\"dataframe\">\n",
       "  <thead>\n",
       "    <tr style=\"text-align: right;\">\n",
       "      <th></th>\n",
       "      <th>repo_name</th>\n",
       "      <th>issue</th>\n",
       "      <th>issue_number</th>\n",
       "      <th>gh_issue</th>\n",
       "      <th>created</th>\n",
       "      <th>closed</th>\n",
       "      <th>time_to_close</th>\n",
       "    </tr>\n",
       "  </thead>\n",
       "  <tbody>\n",
       "    <tr>\n",
       "      <th>0</th>\n",
       "      <td>augur</td>\n",
       "      <td>340142</td>\n",
       "      <td>1</td>\n",
       "      <td>202159788</td>\n",
       "      <td>2017-01-20 14:56:01</td>\n",
       "      <td>2017-12-18 17:15:12</td>\n",
       "      <td>332 days 02:19:11</td>\n",
       "    </tr>\n",
       "    <tr>\n",
       "      <th>1</th>\n",
       "      <td>augur</td>\n",
       "      <td>340141</td>\n",
       "      <td>2</td>\n",
       "      <td>202161717</td>\n",
       "      <td>2017-01-20 15:04:01</td>\n",
       "      <td>2017-02-17 03:05:14</td>\n",
       "      <td>27 days 12:01:13</td>\n",
       "    </tr>\n",
       "    <tr>\n",
       "      <th>2</th>\n",
       "      <td>augur</td>\n",
       "      <td>340140</td>\n",
       "      <td>3</td>\n",
       "      <td>202232128</td>\n",
       "      <td>2017-01-20 20:15:51</td>\n",
       "      <td>2017-02-15 16:55:41</td>\n",
       "      <td>25 days 20:39:50</td>\n",
       "    </tr>\n",
       "    <tr>\n",
       "      <th>3</th>\n",
       "      <td>augur</td>\n",
       "      <td>340139</td>\n",
       "      <td>4</td>\n",
       "      <td>202606858</td>\n",
       "      <td>2017-01-23 18:00:23</td>\n",
       "      <td>2017-05-11 15:45:33</td>\n",
       "      <td>107 days 21:45:10</td>\n",
       "    </tr>\n",
       "    <tr>\n",
       "      <th>4</th>\n",
       "      <td>augur</td>\n",
       "      <td>340138</td>\n",
       "      <td>5</td>\n",
       "      <td>202618154</td>\n",
       "      <td>2017-01-23 18:50:08</td>\n",
       "      <td>2017-01-23 20:49:42</td>\n",
       "      <td>0 days 01:59:34</td>\n",
       "    </tr>\n",
       "  </tbody>\n",
       "</table>\n",
       "</div>"
      ],
      "text/plain": [
       "  repo_name   issue  issue_number   gh_issue             created  \\\n",
       "0     augur  340142             1  202159788 2017-01-20 14:56:01   \n",
       "1     augur  340141             2  202161717 2017-01-20 15:04:01   \n",
       "2     augur  340140             3  202232128 2017-01-20 20:15:51   \n",
       "3     augur  340139             4  202606858 2017-01-23 18:00:23   \n",
       "4     augur  340138             5  202618154 2017-01-23 18:50:08   \n",
       "\n",
       "               closed     time_to_close  \n",
       "0 2017-12-18 17:15:12 332 days 02:19:11  \n",
       "1 2017-02-17 03:05:14  27 days 12:01:13  \n",
       "2 2017-02-15 16:55:41  25 days 20:39:50  \n",
       "3 2017-05-11 15:45:33 107 days 21:45:10  \n",
       "4 2017-01-23 20:49:42   0 days 01:59:34  "
      ]
     },
     "execution_count": 9,
     "metadata": {},
     "output_type": "execute_result"
    }
   ],
   "source": [
    "df_issues_focus.head()"
   ]
  },
  {
   "cell_type": "markdown",
   "id": "4df36b4b-6a84-41a0-aed9-f258e54662ab",
   "metadata": {},
   "source": [
    "Now let's find out the median time taken to close issues grouped by month."
   ]
  },
  {
   "cell_type": "code",
   "execution_count": 10,
   "id": "d195f423-e105-49b8-9ea3-e38265f1bea1",
   "metadata": {
    "ExecuteTime": {
     "end_time": "2021-09-16T16:59:13.189114Z",
     "start_time": "2021-09-16T16:59:13.179139Z"
    }
   },
   "outputs": [],
   "source": [
    "df_issues_closed_monthly = df_issues_focus['time_to_close'].groupby(df_issues_focus.created.dt.to_period(\"M\")).agg('median')"
   ]
  },
  {
   "cell_type": "code",
   "execution_count": 11,
   "id": "e76a5e8a-c6d2-49cb-82dc-dac2f72058e7",
   "metadata": {},
   "outputs": [
    {
     "data": {
      "text/plain": [
       "created\n",
       "2017-01     8 days 21:02:04\n",
       "2017-02     3 days 17:04:44\n",
       "2017-03    29 days 01:11:43\n",
       "2017-04     2 days 21:05:05\n",
       "2017-05   129 days 08:59:07\n",
       "Freq: M, Name: time_to_close, dtype: timedelta64[ns]"
      ]
     },
     "execution_count": 11,
     "metadata": {},
     "output_type": "execute_result"
    }
   ],
   "source": [
    "df_issues_closed_monthly.head()"
   ]
  },
  {
   "cell_type": "markdown",
   "id": "e8b9f603-3da0-49ac-b821-eb8125210b41",
   "metadata": {},
   "source": [
    "### Time Granularity and Normalization"
   ]
  },
  {
   "cell_type": "markdown",
   "id": "42343807-e254-4a4e-a3c9-d2e9b2e95933",
   "metadata": {},
   "source": [
    "We can visualize the trend in median time to close issues by month. However, in order to best capture all the median values including the outliers we can normalize the data by taking the `log` of the values before plotting. We should also consider the level of granularity we would like to capture and visualize the median time in i.e. days vs hours vs minutes vs seconds."
   ]
  },
  {
   "cell_type": "markdown",
   "id": "71939a05-18a2-46ec-b0e0-2d8fd8fdadaf",
   "metadata": {},
   "source": [
    "Let us first consider the different levels of granularity for the median time to close issues."
   ]
  },
  {
   "cell_type": "code",
   "execution_count": 12,
   "id": "0fc1c49b-63b4-420a-9643-79fc7e1f8d9a",
   "metadata": {
    "ExecuteTime": {
     "end_time": "2021-09-16T16:59:13.194732Z",
     "start_time": "2021-09-16T16:59:13.191243Z"
    }
   },
   "outputs": [],
   "source": [
    "# days\n",
    "df_issues_closed_monthly_days = df_issues_closed_monthly.astype('timedelta64[D]')\n",
    "# hours\n",
    "df_issues_closed_monthly_hours = df_issues_closed_monthly.astype('timedelta64[h]')\n",
    "# minutes\n",
    "df_issues_closed_monthly_minutes = df_issues_closed_monthly.astype('timedelta64[m]')\n",
    "# seconds\n",
    "df_issues_closed_monthly_seconds = df_issues_closed_monthly.astype('timedelta64[s]')"
   ]
  },
  {
   "cell_type": "markdown",
   "id": "9a156b6c-eb34-4d5b-a543-057372d87db5",
   "metadata": {},
   "source": [
    "We can now proceed to normalizing the values"
   ]
  },
  {
   "cell_type": "code",
   "execution_count": 13,
   "id": "e7dafeac-7a60-448e-a865-da9c195d43f1",
   "metadata": {},
   "outputs": [],
   "source": [
    "df_issues_closed_monthly_days_norm = np.log(df_issues_closed_monthly_days)\n",
    "df_issues_closed_monthly_hours_norm = np.log(df_issues_closed_monthly_hours)\n",
    "df_issues_closed_monthly_minutes_norm = np.log(df_issues_closed_monthly_minutes)\n",
    "df_issues_closed_monthly_seconds_norm = np.log(df_issues_closed_monthly_seconds)"
   ]
  },
  {
   "cell_type": "markdown",
   "id": "2af8fe85-8ba9-4488-b9f0-01f1097646c9",
   "metadata": {},
   "source": [
    "### Line Plot\n",
    "\n",
    "We will now consider the granularity level to be \"days\" and plot the median time to close issues grouped by months."
   ]
  },
  {
   "cell_type": "code",
   "execution_count": 14,
   "id": "fd7da597-bec4-4c67-97c7-d8eeac49c15d",
   "metadata": {
    "ExecuteTime": {
     "end_time": "2021-09-16T16:59:13.589698Z",
     "start_time": "2021-09-16T16:59:13.196751Z"
    },
    "tags": []
   },
   "outputs": [
    {
     "data": {
      "image/png": "[encoded data removed]",
      "text/plain": [
       "<Figure size 1080x360 with 1 Axes>"
      ]
     },
     "metadata": {
      "needs_background": "light"
     },
     "output_type": "display_data"
    }
   ],
   "source": [
    "df_issues_closed_monthly_days.plot()\n",
    "plt.xlabel(\"Month\")\n",
    "plt.ylabel(\"Median time to close (days)\")\n",
    "plt.title(\"Median Time to Close Issues (Monthly)\")\n",
    "plt.show()"
   ]
  },
  {
   "cell_type": "markdown",
   "id": "8c7e9a77-2cad-4c20-8f62-f26de1a4f8f1",
   "metadata": {},
   "source": [
    "Issues can be closed within seconds/minutes/hours/days, hence making it important to consider all possible time units for better visualizations. We can further expand the above line graph by plotting a bar graph with the normalized log values."
   ]
  },
  {
   "cell_type": "markdown",
   "id": "65f6d79c-b03f-48c0-92f1-dbecc70f8cad",
   "metadata": {},
   "source": [
    "## Bar Plot\n",
    "\n",
    "Let's plot the bar graph for different time granularity levels by considering the normalized log values to attain a better perspective."
   ]
  },
  {
   "cell_type": "markdown",
   "id": "5840fb35-0641-423e-ad80-410bf3804e00",
   "metadata": {},
   "source": [
    "#### Median Time in Days"
   ]
  },
  {
   "cell_type": "code",
   "execution_count": 15,
   "id": "85fc73d8-af5b-42cb-9214-700202e950ca",
   "metadata": {
    "ExecuteTime": {
     "end_time": "2021-09-16T16:59:14.265762Z",
     "start_time": "2021-09-16T16:59:13.590933Z"
    }
   },
   "outputs": [
    {
     "data": {
      "text/plain": [
       "Text(0.5, 1.0, 'Median Time to Close Issues (Monthly)')"
      ]
     },
     "execution_count": 15,
     "metadata": {},
     "output_type": "execute_result"
    },
    {
     "data": {
      "image/png": "[encoded data removed]",
      "text/plain": [
       "<Figure size 1080x360 with 1 Axes>"
      ]
     },
     "metadata": {
      "needs_background": "light"
     },
     "output_type": "display_data"
    }
   ],
   "source": [
    "# Plot the normalized log values\n",
    "df_issues_closed_monthly_days_norm.plot.bar()\n",
    "plt.xlabel(\"Month\")\n",
    "plt.ylabel(\"Median time to close (log days)\")\n",
    "plt.title(\"Median Time to Close Issues (Monthly)\")"
   ]
  },
  {
   "cell_type": "markdown",
   "id": "2da7fc40-35a9-4164-9bba-2758e7afa9b7",
   "metadata": {},
   "source": [
    "From the above graph we see that there are a few missing values which can be misleading, hence its worthwhile to explore the median time in other time units such as hours, seconds or minutes."
   ]
  },
  {
   "cell_type": "markdown",
   "id": "089ce532-4a59-415f-a0f2-635c95a7ea6d",
   "metadata": {},
   "source": [
    "#### Median Time in Hours"
   ]
  },
  {
   "cell_type": "code",
   "execution_count": 16,
   "id": "4b7012c2-e63a-460d-98ef-69357eccc144",
   "metadata": {},
   "outputs": [
    {
     "data": {
      "text/plain": [
       "Text(0.5, 1.0, 'Median Time to Close Issues (Monthly)')"
      ]
     },
     "execution_count": 16,
     "metadata": {},
     "output_type": "execute_result"
    },
    {
     "data": {
      "image/png": "[encoded data removed]",
      "text/plain": [
       "<Figure size 1080x360 with 1 Axes>"
      ]
     },
     "metadata": {
      "needs_background": "light"
     },
     "output_type": "display_data"
    }
   ],
   "source": [
    "# Plot the normalized log values\n",
    "df_issues_closed_monthly_hours_norm.plot.bar()\n",
    "plt.xlabel(\"Month\")\n",
    "plt.ylabel(\"Median time to close (log hours)\")\n",
    "plt.title(\"Median Time to Close Issues (Monthly)\")"
   ]
  },
  {
   "cell_type": "markdown",
   "id": "b15048ff-1143-4827-9cc9-116cf0028280",
   "metadata": {},
   "source": [
    "#### Median Time in Minutes"
   ]
  },
  {
   "cell_type": "code",
   "execution_count": 17,
   "id": "3b172871-06cf-4e5c-b32c-ac6016fae944",
   "metadata": {},
   "outputs": [
    {
     "data": {
      "text/plain": [
       "Text(0.5, 1.0, 'Median Time to Close Issues (Monthly)')"
      ]
     },
     "execution_count": 17,
     "metadata": {},
     "output_type": "execute_result"
    },
    {
     "data": {
      "image/png": "[encoded data removed]",
      "text/plain": [
       "<Figure size 1080x360 with 1 Axes>"
      ]
     },
     "metadata": {
      "needs_background": "light"
     },
     "output_type": "display_data"
    }
   ],
   "source": [
    "# Plot the normalized log values\n",
    "df_issues_closed_monthly_minutes_norm.plot.bar()\n",
    "plt.xlabel(\"Month\")\n",
    "plt.ylabel(\"Median time to close (log minutes)\")\n",
    "plt.title(\"Median Time to Close Issues (Monthly)\")"
   ]
  },
  {
   "cell_type": "markdown",
   "id": "4e3acd0c-4aae-4ed4-96b5-a42f17a32891",
   "metadata": {},
   "source": [
    "#### Median Time in Seconds"
   ]
  },
  {
   "cell_type": "code",
   "execution_count": 18,
   "id": "b982e0f0-8876-4396-a5df-f09ac355f096",
   "metadata": {},
   "outputs": [
    {
     "data": {
      "text/plain": [
       "Text(0.5, 1.0, 'Median Time to Close Issues (Monthly)')"
      ]
     },
     "execution_count": 18,
     "metadata": {},
     "output_type": "execute_result"
    },
    {
     "data": {
      "image/png": "[encoded data removed]",
      "text/plain": [
       "<Figure size 1080x360 with 1 Axes>"
      ]
     },
     "metadata": {
      "needs_background": "light"
     },
     "output_type": "display_data"
    }
   ],
   "source": [
    "# Plot the normalized log values\n",
    "df_issues_closed_monthly_seconds_norm.plot.bar()\n",
    "plt.xlabel(\"Month\")\n",
    "plt.ylabel(\"Median time to close (log seconds)\")\n",
    "plt.title(\"Median Time to Close Issues (Monthly)\")"
   ]
  },
  {
   "cell_type": "code",
   "execution_count": 19,
   "id": "b5bff7fa-b6b8-4bd9-884e-0c2a30032ad8",
   "metadata": {
    "ExecuteTime": {
     "end_time": "2021-09-16T17:00:43.273667Z",
     "start_time": "2021-09-16T17:00:43.262733Z"
    }
   },
   "outputs": [
    {
     "data": {
      "text/plain": [
       "count                          1351\n",
       "mean     17 days 00:29:38.954108068\n",
       "std      58 days 21:09:12.017033490\n",
       "min                 0 days 00:00:07\n",
       "25%                 0 days 00:02:16\n",
       "50%                 0 days 09:40:58\n",
       "75%                 6 days 19:29:25\n",
       "max               692 days 02:45:18\n",
       "Name: time_to_close, dtype: object"
      ]
     },
     "execution_count": 19,
     "metadata": {},
     "output_type": "execute_result"
    }
   ],
   "source": [
    "df_issues_focus['time_to_close'].describe()"
   ]
  },
  {
   "cell_type": "markdown",
   "id": "96a90ec6-a457-4603-a0fe-447be6b524f4",
   "metadata": {},
   "source": [
    "## Number of Issues Open\n",
    "Let's now identify the issues which are still open and view them by the month they were opened originally"
   ]
  },
  {
   "cell_type": "code",
   "execution_count": 20,
   "id": "93737353-3448-4408-8897-a7f0f7a2ffe2",
   "metadata": {
    "ExecuteTime": {
     "end_time": "2021-09-16T16:59:14.293598Z",
     "start_time": "2021-09-16T16:59:14.290010Z"
    }
   },
   "outputs": [],
   "source": [
    "df_issues_open = df_issues_focus[df_issues_focus['closed'].isnull()]"
   ]
  },
  {
   "cell_type": "code",
   "execution_count": 21,
   "id": "56b87aa0-03e9-4f6e-af6d-0c68ba7942b9",
   "metadata": {
    "ExecuteTime": {
     "end_time": "2021-09-16T16:59:14.301004Z",
     "start_time": "2021-09-16T16:59:14.294936Z"
    }
   },
   "outputs": [],
   "source": [
    "df_issues_open = df_issues_open.reset_index(drop=True)"
   ]
  },
  {
   "cell_type": "markdown",
   "id": "1553a68d-c5e8-4dc0-833f-dee0a576f68b",
   "metadata": {},
   "source": [
    "To find out how long an issue has been open, we can find the difference between the current timestamp and the issue creation timestamp"
   ]
  },
  {
   "cell_type": "code",
   "execution_count": 22,
   "id": "b8b80f4f-f352-4b90-b39c-b0dffe9bb962",
   "metadata": {
    "ExecuteTime": {
     "end_time": "2021-09-16T16:59:14.313915Z",
     "start_time": "2021-09-16T16:59:14.302213Z"
    }
   },
   "outputs": [],
   "source": [
    "#Calculate the time an issue has been open\n",
    "df_issues_open['time_open'] = (pd.Timestamp.now() - df_issues_open.created)"
   ]
  },
  {
   "cell_type": "code",
   "execution_count": 23,
   "id": "3af503ca-e755-4973-aaea-9bda4b76cb9d",
   "metadata": {
    "ExecuteTime": {
     "end_time": "2021-09-16T17:00:12.551482Z",
     "start_time": "2021-09-16T17:00:12.538448Z"
    }
   },
   "outputs": [
    {
     "data": {
      "text/plain": [
       "count                            101\n",
       "mean     169 days 19:28:19.258754784\n",
       "std      118 days 08:39:25.371506794\n",
       "min          45 days 19:29:05.050834\n",
       "25%          79 days 19:32:40.050834\n",
       "50%         110 days 01:28:17.050834\n",
       "75%         226 days 00:35:24.050834\n",
       "max         553 days 02:59:53.050834\n",
       "Name: time_open, dtype: object"
      ]
     },
     "execution_count": 23,
     "metadata": {},
     "output_type": "execute_result"
    }
   ],
   "source": [
    "df_issues_open['time_open'].describe()"
   ]
  },
  {
   "cell_type": "markdown",
   "id": "d75e5144-a191-48f7-943e-86b1a81fc1d6",
   "metadata": {},
   "source": [
    "Now, lets see the median time issues were open by month"
   ]
  },
  {
   "cell_type": "code",
   "execution_count": 24,
   "id": "bab85e55-f162-4d90-974c-61158241fec3",
   "metadata": {
    "ExecuteTime": {
     "end_time": "2021-09-16T16:59:14.342503Z",
     "start_time": "2021-09-16T16:59:14.338648Z"
    }
   },
   "outputs": [],
   "source": [
    "df_issues_open_monthly = df_issues_open['created'].groupby(df_issues_open.created.dt.to_period(\"M\")).agg('count')"
   ]
  },
  {
   "cell_type": "markdown",
   "id": "d7bf283c-9d7b-4164-80e3-777f5576c846",
   "metadata": {},
   "source": [
    "We can visualize the median time issues are open with a bar graph"
   ]
  },
  {
   "cell_type": "markdown",
   "id": "51af8b3e-69a4-4aa1-9a57-5eedbd1c68a3",
   "metadata": {
    "tags": []
   },
   "source": [
    "### Monthly Issues Open\n",
    "\n",
    "Let's plot the number of issues currently open by created months."
   ]
  },
  {
   "cell_type": "code",
   "execution_count": 25,
   "id": "7948156a-417a-41cf-9e0d-6dd6da43455d",
   "metadata": {
    "ExecuteTime": {
     "end_time": "2021-09-16T16:59:14.585431Z",
     "start_time": "2021-09-16T16:59:14.343910Z"
    }
   },
   "outputs": [
    {
     "data": {
      "text/plain": [
       "Text(0, 0.5, 'Number of Issues')"
      ]
     },
     "execution_count": 25,
     "metadata": {},
     "output_type": "execute_result"
    },
    {
     "data": {
      "image/png": "[encoded data removed]",
      "text/plain": [
       "<Figure size 1080x360 with 1 Axes>"
      ]
     },
     "metadata": {
      "needs_background": "light"
     },
     "output_type": "display_data"
    }
   ],
   "source": [
    "df_issues_open_monthly.plot.bar()\n",
    "plt.title(\"Number of Issues Currenly Open by Created Month\")\n",
    "plt.xlabel(\"Month\")\n",
    "plt.ylabel(\"Number of Issues\")"
   ]
  },
  {
   "cell_type": "markdown",
   "id": "ba96faca-7554-44ab-a130-139f058445d6",
   "metadata": {},
   "source": [
    "From the above graph we see that for the `augur` repo, the months of July and August 2021 had the highest number of open issues."
   ]
  },
  {
   "cell_type": "markdown",
   "id": "ff40e8e9-86ab-4e21-8709-68ada1d4f0f9",
   "metadata": {},
   "source": [
    "## Time to First Response Issues\n",
    "\n",
    "Let's now identify the time taken for first responses in issues."
   ]
  },
  {
   "cell_type": "code",
   "execution_count": 26,
   "id": "c94a2815-30da-45f4-8773-aab2422da5be",
   "metadata": {
    "ExecuteTime": {
     "end_time": "2021-09-16T16:59:14.595558Z",
     "start_time": "2021-09-16T16:59:14.587108Z"
    }
   },
   "outputs": [],
   "source": [
    "df_issues_comments_focus = df_issues_comments[df_issues_comments['repo_name'] == repo_focus]\n",
    "df_issues_comments_focus = df_issues_comments_focus.sort_values(by= \"msg_time\")\n",
    "df_issues_comments_focus = df_issues_comments_focus.reset_index(drop=True)\n",
    "df_issues_comments_focus = df_issues_comments_focus.drop_duplicates(subset='issue_id', keep='first')"
   ]
  },
  {
   "cell_type": "code",
   "execution_count": 27,
   "id": "d065d891-5bce-490d-b499-9e11835ef9ae",
   "metadata": {
    "ExecuteTime": {
     "end_time": "2021-09-16T16:59:14.602729Z",
     "start_time": "2021-09-16T16:59:14.598190Z"
    }
   },
   "outputs": [],
   "source": [
    "not_answered = df_issues_focus.shape[0]-df_issues_comments_focus.shape[0]\n",
    "answered = df_issues_comments_focus.shape[0]"
   ]
  },
  {
   "cell_type": "markdown",
   "id": "09072a68-2379-45a8-95b8-dba723c88516",
   "metadata": {},
   "source": [
    "### Pie Chart-Response Percent\n",
    "\n",
    "We can visualize the response percentage by plotting a pie chart."
   ]
  },
  {
   "cell_type": "code",
   "execution_count": 28,
   "id": "5b7c06f5-e94b-4bd1-8d32-957237d80edf",
   "metadata": {
    "ExecuteTime": {
     "end_time": "2021-09-16T16:59:14.718720Z",
     "start_time": "2021-09-16T16:59:14.604250Z"
    }
   },
   "outputs": [
    {
     "data": {
      "image/png": "[encoded data removed]",
      "text/plain": [
       "<Figure size 1080x360 with 1 Axes>"
      ]
     },
     "metadata": {},
     "output_type": "display_data"
    }
   ],
   "source": [
    "labels = [\"Answered\",\"Not Answered\"]\n",
    "sizes = [answered,not_answered]\n",
    "plt.pie(sizes,autopct='%1.1f%%',startangle=90,pctdistance=0.9,labels=labels)\n",
    "plt.title(\"Issues-Response Percent\")\n",
    "plt.tight_layout()\n",
    "plt.show()"
   ]
  },
  {
   "cell_type": "markdown",
   "id": "86631587-c651-4b8c-a0e9-2e8f3c292e47",
   "metadata": {},
   "source": [
    "From the above pie chart, we see that ~54% of the issues response in the `augur` repo were not answered."
   ]
  },
  {
   "cell_type": "markdown",
   "id": "a563dc5c-69a4-48df-94aa-20ca6181fed9",
   "metadata": {},
   "source": [
    "### Bar Plot- Mean Time to First Reponse\n",
    "***Note: this is the time for only the issues that have a response***"
   ]
  },
  {
   "cell_type": "code",
   "execution_count": 29,
   "id": "b90c03bd-84d3-48e0-a441-376b0257c0fc",
   "metadata": {
    "ExecuteTime": {
     "end_time": "2021-09-16T16:59:14.726499Z",
     "start_time": "2021-09-16T16:59:14.720371Z"
    }
   },
   "outputs": [],
   "source": [
    "df_issues_comments_focus['time_to_response'] = (df_issues_comments_focus.msg_time - df_issues_comments_focus.created_at)\n",
    "df_issues_comments_focus = df_issues_comments_focus[df_issues_comments_focus['time_to_response'] >= pd.Timedelta(0)]"
   ]
  },
  {
   "cell_type": "code",
   "execution_count": 30,
   "id": "b41b99ea-310f-4e2e-8e7e-670fab41beef",
   "metadata": {
    "ExecuteTime": {
     "end_time": "2021-09-16T16:59:14.734337Z",
     "start_time": "2021-09-16T16:59:14.727898Z"
    }
   },
   "outputs": [],
   "source": [
    "df_issues_comments_monthly = df_issues_comments_focus['time_to_response'].groupby(df_issues_comments_focus.created_at.dt.to_period(\"M\")).agg('mean')"
   ]
  },
  {
   "cell_type": "markdown",
   "id": "68e401f0-fe05-4332-9b55-1d174207cc81",
   "metadata": {},
   "source": [
    "#### Time Granularity and Normalization"
   ]
  },
  {
   "cell_type": "markdown",
   "id": "33c05e9a-d330-4564-b993-dcd169865d25",
   "metadata": {},
   "source": [
    "We can visualize the trend in median time of first response by month. However, in order to best capture all the median values including the outliers we can normalize the data by taking the `log` of the values before plotting. We should also consider the level of granularity we would like to capture and visualize the median time in i.e. days vs hours vs minutes vs seconds."
   ]
  },
  {
   "cell_type": "markdown",
   "id": "4e28c84d-65f9-47dd-9c88-80feacb7897c",
   "metadata": {},
   "source": [
    "Let us first consider the different levels of granularity for the mean time to first response."
   ]
  },
  {
   "cell_type": "code",
   "execution_count": 31,
   "id": "89cdfd9c-f21a-4caf-b569-caadeeb9ff8f",
   "metadata": {
    "ExecuteTime": {
     "end_time": "2021-09-16T16:59:13.194732Z",
     "start_time": "2021-09-16T16:59:13.191243Z"
    }
   },
   "outputs": [],
   "source": [
    "# days\n",
    "df_issues_comments_monthly_days = df_issues_comments_monthly.astype('timedelta64[D]')\n",
    "# hours\n",
    "df_issues_comments_monthly_hours = df_issues_comments_monthly.astype('timedelta64[h]')\n",
    "# minutes\n",
    "df_issues_comments_monthly_minutes = df_issues_comments_monthly.astype('timedelta64[m]')\n",
    "# seconds\n",
    "df_issues_comments_monthly_seconds = df_issues_comments_monthly.astype('timedelta64[s]')"
   ]
  },
  {
   "cell_type": "markdown",
   "id": "762c4801-5c73-4ca8-9b00-44fca16d6047",
   "metadata": {},
   "source": [
    "We can now proceed to normalizing the values"
   ]
  },
  {
   "cell_type": "code",
   "execution_count": 32,
   "id": "e638e1d8-b250-4da7-90f9-7e1866e80ca2",
   "metadata": {},
   "outputs": [],
   "source": [
    "df_issues_comments_monthly_days_norm = np.log(df_issues_comments_monthly_days)\n",
    "df_issues_comments_monthly_hours_norm = np.log(df_issues_comments_monthly_hours)\n",
    "df_issues_comments_monthly_minutes_norm = np.log(df_issues_comments_monthly_minutes)\n",
    "df_issues_comments_monthly_seconds_norm = np.log(df_issues_comments_monthly_seconds)"
   ]
  },
  {
   "cell_type": "markdown",
   "id": "a294fb3b-e7f3-4a45-8c6d-1b1660029ec4",
   "metadata": {},
   "source": [
    "We will now consider the different granularity levels of time i.e. days, hours, minutes and seconds and plot the mean time to first response grouped by months."
   ]
  },
  {
   "cell_type": "markdown",
   "id": "7edacbc7-203b-4454-9a23-a33b108d17da",
   "metadata": {},
   "source": [
    "#### Mean Time in Days"
   ]
  },
  {
   "cell_type": "code",
   "execution_count": 33,
   "id": "ec34f31d-c3ba-411e-b11b-3295a9cade68",
   "metadata": {
    "tags": []
   },
   "outputs": [
    {
     "data": {
      "image/png": "[encoded data removed]",
      "text/plain": [
       "<Figure size 1080x360 with 1 Axes>"
      ]
     },
     "metadata": {
      "needs_background": "light"
     },
     "output_type": "display_data"
    }
   ],
   "source": [
    "df_issues_comments_monthly_days_norm.plot.bar()\n",
    "plt.xlabel(\"Month\")\n",
    "plt.ylabel(\"Mean Time to first response (log days)\")\n",
    "plt.title(\"Mean Time to First Response (Monthly)\")\n",
    "plt.show()"
   ]
  },
  {
   "cell_type": "markdown",
   "id": "5c12ce78-abce-4b63-944e-988fa5ed9f2f",
   "metadata": {},
   "source": [
    "From the above graph we see that there are a few missing values which can be misleading, hence its worthwhile to explore the mean time in other time units such as hours, seconds or minutes."
   ]
  },
  {
   "cell_type": "markdown",
   "id": "93ec02dc-c93f-454b-a716-d111f5c9c429",
   "metadata": {},
   "source": [
    "#### Mean Time in Hours"
   ]
  },
  {
   "cell_type": "code",
   "execution_count": 34,
   "id": "058ea24b-a41e-4cb3-a700-37cb04ef3f0b",
   "metadata": {},
   "outputs": [
    {
     "data": {
      "image/png": "[encoded data removed]",
      "text/plain": [
       "<Figure size 1080x360 with 1 Axes>"
      ]
     },
     "metadata": {
      "needs_background": "light"
     },
     "output_type": "display_data"
    }
   ],
   "source": [
    "df_issues_comments_monthly_hours_norm.plot.bar()\n",
    "plt.xlabel(\"Month\")\n",
    "plt.ylabel(\"Mean Time to first response (log hours)\")\n",
    "plt.title(\"Mean Time to First Response (Monthly)\")\n",
    "plt.show()"
   ]
  },
  {
   "cell_type": "markdown",
   "id": "9905456f-7e69-4bc0-abf4-41d4a62797c2",
   "metadata": {},
   "source": [
    "#### Mean Time in Minutes"
   ]
  },
  {
   "cell_type": "code",
   "execution_count": 35,
   "id": "49100775-0e4e-4eb8-a510-131b47453773",
   "metadata": {},
   "outputs": [
    {
     "data": {
      "image/png": "[encoded data removed]",
      "text/plain": [
       "<Figure size 1080x360 with 1 Axes>"
      ]
     },
     "metadata": {
      "needs_background": "light"
     },
     "output_type": "display_data"
    }
   ],
   "source": [
    "df_issues_comments_monthly_minutes_norm.plot.bar()\n",
    "plt.xlabel(\"Month\")\n",
    "plt.ylabel(\"Mean Time to first response (log minutes)\")\n",
    "plt.title(\"Mean Time to First Response (Monthly)\")\n",
    "plt.show()"
   ]
  },
  {
   "cell_type": "markdown",
   "id": "94abaede-b869-40eb-a54c-86b603e1257c",
   "metadata": {},
   "source": [
    "#### Mean Time in Seconds"
   ]
  },
  {
   "cell_type": "code",
   "execution_count": 36,
   "id": "7cdca921-16fc-4612-80da-a1070fd2d4e2",
   "metadata": {},
   "outputs": [
    {
     "data": {
      "image/png": "[encoded data removed]",
      "text/plain": [
       "<Figure size 1080x360 with 1 Axes>"
      ]
     },
     "metadata": {
      "needs_background": "light"
     },
     "output_type": "display_data"
    }
   ],
   "source": [
    "df_issues_comments_monthly_seconds_norm.plot.bar()\n",
    "plt.xlabel(\"Month\")\n",
    "plt.ylabel(\"Mean Time to first response (log seconds)\")\n",
    "plt.title(\"Mean Time to First Response (Monthly)\")\n",
    "plt.show()"
   ]
  },
  {
   "cell_type": "code",
   "execution_count": 37,
   "id": "3ed47ab1-61ab-4f57-8d86-799475c12036",
   "metadata": {
    "ExecuteTime": {
     "end_time": "2021-09-16T16:59:15.253578Z",
     "start_time": "2021-09-16T16:59:15.234857Z"
    }
   },
   "outputs": [
    {
     "data": {
      "text/html": [
       "<div>\n",
       "<style scoped>\n",
       "    .dataframe tbody tr th:only-of-type {\n",
       "        vertical-align: middle;\n",
       "    }\n",
       "\n",
       "    .dataframe tbody tr th {\n",
       "        vertical-align: top;\n",
       "    }\n",
       "\n",
       "    .dataframe thead th {\n",
       "        text-align: right;\n",
       "    }\n",
       "</style>\n",
       "<table border=\"1\" class=\"dataframe\">\n",
       "  <thead>\n",
       "    <tr style=\"text-align: right;\">\n",
       "      <th></th>\n",
       "      <th>issue_id</th>\n",
       "      <th>issue_msg_ref_id</th>\n",
       "      <th>time_to_response</th>\n",
       "    </tr>\n",
       "  </thead>\n",
       "  <tbody>\n",
       "    <tr>\n",
       "      <th>count</th>\n",
       "      <td>572.000000</td>\n",
       "      <td>5.720000e+02</td>\n",
       "      <td>572</td>\n",
       "    </tr>\n",
       "    <tr>\n",
       "      <th>mean</th>\n",
       "      <td>376210.860140</td>\n",
       "      <td>1.204957e+06</td>\n",
       "      <td>10 days 06:48:15.858391608</td>\n",
       "    </tr>\n",
       "    <tr>\n",
       "      <th>std</th>\n",
       "      <td>113390.064602</td>\n",
       "      <td>8.001959e+03</td>\n",
       "      <td>28 days 08:16:20.265810224</td>\n",
       "    </tr>\n",
       "    <tr>\n",
       "      <th>min</th>\n",
       "      <td>339462.000000</td>\n",
       "      <td>1.199971e+06</td>\n",
       "      <td>0 days 00:00:17</td>\n",
       "    </tr>\n",
       "    <tr>\n",
       "      <th>25%</th>\n",
       "      <td>339728.750000</td>\n",
       "      <td>1.200565e+06</td>\n",
       "      <td>0 days 04:26:28.500000</td>\n",
       "    </tr>\n",
       "    <tr>\n",
       "      <th>50%</th>\n",
       "      <td>339945.500000</td>\n",
       "      <td>1.200932e+06</td>\n",
       "      <td>1 days 13:58:46.500000</td>\n",
       "    </tr>\n",
       "    <tr>\n",
       "      <th>75%</th>\n",
       "      <td>340139.250000</td>\n",
       "      <td>1.209160e+06</td>\n",
       "      <td>6 days 01:36:14.250000</td>\n",
       "    </tr>\n",
       "    <tr>\n",
       "      <th>max</th>\n",
       "      <td>734598.000000</td>\n",
       "      <td>1.225894e+06</td>\n",
       "      <td>241 days 12:57:16</td>\n",
       "    </tr>\n",
       "  </tbody>\n",
       "</table>\n",
       "</div>"
      ],
      "text/plain": [
       "            issue_id  issue_msg_ref_id            time_to_response\n",
       "count     572.000000      5.720000e+02                         572\n",
       "mean   376210.860140      1.204957e+06  10 days 06:48:15.858391608\n",
       "std    113390.064602      8.001959e+03  28 days 08:16:20.265810224\n",
       "min    339462.000000      1.199971e+06             0 days 00:00:17\n",
       "25%    339728.750000      1.200565e+06      0 days 04:26:28.500000\n",
       "50%    339945.500000      1.200932e+06      1 days 13:58:46.500000\n",
       "75%    340139.250000      1.209160e+06      6 days 01:36:14.250000\n",
       "max    734598.000000      1.225894e+06           241 days 12:57:16"
      ]
     },
     "execution_count": 37,
     "metadata": {},
     "output_type": "execute_result"
    }
   ],
   "source": [
    "df_issues_comments_focus.describe()"
   ]
  },
  {
   "cell_type": "markdown",
   "id": "d9056dc5-ad63-48ac-baa4-290370896ff9",
   "metadata": {},
   "source": [
    "## Conclusion\n",
    "\n",
    "In this notebook we have visualized some of the performance metrics measured for GitHub issues and considered different time granularity levels such as days, hours, minutes and seconds to gain a better understanding of the metrics behavior."
   ]
  }
 ],
 "metadata": {
  "kernelspec": {
   "display_name": "Python 3",
   "language": "python",
   "name": "python3"
  },
  "language_info": {
   "codemirror_mode": {
    "name": "ipython",
    "version": 3
   },
   "file_extension": ".py",
   "mimetype": "text/x-python",
   "name": "python",
   "nbconvert_exporter": "python",
   "pygments_lexer": "ipython3",
   "version": "3.8.3"
  },
  "toc": {
   "base_numbering": 1,
   "nav_menu": {},
   "number_sections": true,
   "sideBar": true,
   "skip_h1_title": false,
   "title_cell": "Table of Contents",
   "title_sidebar": "Contents",
   "toc_cell": false,
   "toc_position": {},
   "toc_section_display": true,
   "toc_window_display": false
  }
 },
 "nbformat": 4,
 "nbformat_minor": 5
}
