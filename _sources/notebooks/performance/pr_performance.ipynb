{
 "cells": [
  {
   "cell_type": "markdown",
   "id": "c8aaba7f-77e2-4b5d-a520-98085454ed91",
   "metadata": {},
   "source": [
    "# Github Performance Metrics- Pull Requests\n",
    "\n",
    "**Activity by Repo**"
   ]
  },
  {
   "cell_type": "markdown",
   "id": "8ba881e3-910b-4e5c-9f2e-dad78609e2cd",
   "metadata": {},
   "source": [
    "This notebook will aim to query the Augur DB to access the neccessary information to be able to get the following issue metrics dirived from the GitHub Community Metrics working document https://docs.google.com/document/d/1Yocr6fk0J8EsVZnJwoIl3kRQaI94tI-XHe7VSMFT0yM/edit?usp=sharing"
   ]
  },
  {
   "cell_type": "markdown",
   "id": "6011394e-67c4-40c9-83cd-5fa3d6acaa96",
   "metadata": {},
   "source": [
    "Any necessary computations from the data to get the metric value will be done as the queries are determined"
   ]
  },
  {
   "cell_type": "code",
   "execution_count": 1,
   "id": "530acb97-54f5-4d3e-9ddc-6c051bbead77",
   "metadata": {
    "tags": [
     "hide-input"
    ]
   },
   "outputs": [],
   "source": [
    "import psycopg2\n",
    "import pandas as pd \n",
    "import sqlalchemy as salc\n",
    "import json\n",
    "import os\n",
    "import matplotlib.pyplot as plt\n",
    "plt.rcParams['figure.figsize'] = (15, 5)\n",
    "import warnings\n",
    "warnings.filterwarnings('ignore')\n",
    "\n",
    "with open(\"../../config_temp.json\") as config_file:\n",
    "    config = json.load(config_file)"
   ]
  },
  {
   "cell_type": "code",
   "execution_count": 2,
   "id": "63c218a4-20d6-40a4-9b91-95be898d6bbc",
   "metadata": {
    "tags": [
     "hide-input"
    ]
   },
   "outputs": [],
   "source": [
    "database_connection_string = 'postgresql+psycopg2://{}:{}@{}:{}/{}'.format(config['user'], config['password'], config['host'], config['port'], config['database'])\n",
    "\n",
    "dbschema='augur_data'\n",
    "engine = salc.create_engine(\n",
    "    database_connection_string,\n",
    "    connect_args={'options': '-csearch_path={}'.format(dbschema)})"
   ]
  },
  {
   "cell_type": "code",
   "execution_count": 3,
   "id": "8cd9c044-1e8c-4fec-b467-b981b13f28ba",
   "metadata": {},
   "outputs": [
    {
     "name": "stdout",
     "output_type": "stream",
     "text": [
      "[25440, 25448]\n"
     ]
    }
   ],
   "source": [
    "#add your repo name(s) here of the repo(s) you want to query if known (and in the database)\n",
    "repo_name_set = ['augur', 'grimoirelab']\n",
    "repo_set = []\n",
    "\n",
    "for repo_name in repo_name_set:\n",
    "    repo_query = salc.sql.text(f\"\"\"\n",
    "                 SET SCHEMA 'augur_data';\n",
    "                 SELECT \n",
    "                    b.repo_id\n",
    "                FROM\n",
    "                    repo_groups a,\n",
    "                    repo b\n",
    "                WHERE\n",
    "                    a.repo_group_id = b.repo_group_id AND\n",
    "                    b.repo_name = \\'{repo_name}\\'\n",
    "        \"\"\")\n",
    "\n",
    "    t = engine.execute(repo_query)\n",
    "    repo_id =t.mappings().all()[0].get('repo_id')\n",
    "    repo_set.append(repo_id)\n",
    "print(repo_set)"
   ]
  },
  {
   "cell_type": "code",
   "execution_count": 4,
   "id": "234eb0a6-f499-408a-bd1d-f5bf60645af2",
   "metadata": {},
   "outputs": [],
   "source": [
    "#Take this out of quotes if you want to manually assign a repo_id number(s)\n",
    "#repo_set = [25440]"
   ]
  },
  {
   "cell_type": "markdown",
   "id": "853df240-4a87-4600-b690-ba86ec252903",
   "metadata": {},
   "source": [
    "### Query for Pull Request Analysis"
   ]
  },
  {
   "cell_type": "code",
   "execution_count": 5,
   "id": "c13d3f35-a314-4cc3-beb4-bc28d6a3d4a4",
   "metadata": {
    "tags": [
     "hide-input",
     "hide-output"
    ]
   },
   "outputs": [
    {
     "data": {
      "text/html": [
       "<div>\n",
       "<style scoped>\n",
       "    .dataframe tbody tr th:only-of-type {\n",
       "        vertical-align: middle;\n",
       "    }\n",
       "\n",
       "    .dataframe tbody tr th {\n",
       "        vertical-align: top;\n",
       "    }\n",
       "\n",
       "    .dataframe thead th {\n",
       "        text-align: right;\n",
       "    }\n",
       "</style>\n",
       "<table border=\"1\" class=\"dataframe\">\n",
       "  <thead>\n",
       "    <tr style=\"text-align: right;\">\n",
       "      <th></th>\n",
       "      <th>repo_name</th>\n",
       "      <th>pull_request</th>\n",
       "      <th>created</th>\n",
       "      <th>closed</th>\n",
       "      <th>merged</th>\n",
       "    </tr>\n",
       "  </thead>\n",
       "  <tbody>\n",
       "    <tr>\n",
       "      <th>0</th>\n",
       "      <td>augur</td>\n",
       "      <td>214028</td>\n",
       "      <td>2020-10-19 12:10:22</td>\n",
       "      <td>2020-10-19 13:27:26</td>\n",
       "      <td>NaT</td>\n",
       "    </tr>\n",
       "    <tr>\n",
       "      <th>1</th>\n",
       "      <td>augur</td>\n",
       "      <td>210011</td>\n",
       "      <td>2017-02-01 20:41:17</td>\n",
       "      <td>2017-02-02 16:51:16</td>\n",
       "      <td>2017-02-02 16:51:16</td>\n",
       "    </tr>\n",
       "    <tr>\n",
       "      <th>2</th>\n",
       "      <td>augur</td>\n",
       "      <td>210012</td>\n",
       "      <td>2017-02-01 21:43:24</td>\n",
       "      <td>2017-02-02 16:47:25</td>\n",
       "      <td>2017-02-02 16:47:25</td>\n",
       "    </tr>\n",
       "    <tr>\n",
       "      <th>3</th>\n",
       "      <td>augur</td>\n",
       "      <td>210019</td>\n",
       "      <td>2017-03-16 21:16:33</td>\n",
       "      <td>2017-03-16 21:17:07</td>\n",
       "      <td>2017-03-16 21:17:07</td>\n",
       "    </tr>\n",
       "    <tr>\n",
       "      <th>4</th>\n",
       "      <td>augur</td>\n",
       "      <td>210219</td>\n",
       "      <td>2019-10-23 22:27:53</td>\n",
       "      <td>2019-10-23 22:28:01</td>\n",
       "      <td>2019-10-23 22:28:01</td>\n",
       "    </tr>\n",
       "  </tbody>\n",
       "</table>\n",
       "</div>"
      ],
      "text/plain": [
       "  repo_name  pull_request             created              closed  \\\n",
       "0     augur        214028 2020-10-19 12:10:22 2020-10-19 13:27:26   \n",
       "1     augur        210011 2017-02-01 20:41:17 2017-02-02 16:51:16   \n",
       "2     augur        210012 2017-02-01 21:43:24 2017-02-02 16:47:25   \n",
       "3     augur        210019 2017-03-16 21:16:33 2017-03-16 21:17:07   \n",
       "4     augur        210219 2019-10-23 22:27:53 2019-10-23 22:28:01   \n",
       "\n",
       "               merged  \n",
       "0                 NaT  \n",
       "1 2017-02-02 16:51:16  \n",
       "2 2017-02-02 16:47:25  \n",
       "3 2017-03-16 21:17:07  \n",
       "4 2019-10-23 22:28:01  "
      ]
     },
     "execution_count": 5,
     "metadata": {},
     "output_type": "execute_result"
    }
   ],
   "source": [
    "df_pr = pd.DataFrame()\n",
    "\n",
    "for repo_id in repo_set: \n",
    "\n",
    "    pr_query = salc.sql.text(f\"\"\"\n",
    "                SELECT\n",
    "                    r.repo_name,\n",
    "\t\t\t\t\tpr.pull_request_id AS pull_request, \n",
    "\t\t\t\t\tpr.pr_created_at AS created, \n",
    "\t\t\t\t\tpr.pr_closed_at AS closed,\n",
    "\t\t\t\t\tpr.pr_merged_at  AS merged \n",
    "                FROM\n",
    "                \trepo r,\n",
    "                    pull_requests pr\n",
    "                WHERE\n",
    "                \tr.repo_id = pr.repo_id AND\n",
    "                    r.repo_id = \\'{repo_id}\\'\n",
    "        \"\"\")\n",
    "    df_current_repo = pd.read_sql(pr_query, con=engine)\n",
    "    df_pr = pd.concat([df_pr, df_current_repo])\n",
    "\n",
    "df_pr = df_pr.reset_index()\n",
    "df_pr.drop(\"index\", axis=1, inplace=True)\n",
    "        \n",
    "df_pr.head()"
   ]
  },
  {
   "cell_type": "code",
   "execution_count": 6,
   "id": "0500c524-e5fb-4bf1-968d-6c9bc1f929e4",
   "metadata": {
    "tags": [
     "hide-input",
     "hide-output"
    ]
   },
   "outputs": [
    {
     "data": {
      "text/html": [
       "<div>\n",
       "<style scoped>\n",
       "    .dataframe tbody tr th:only-of-type {\n",
       "        vertical-align: middle;\n",
       "    }\n",
       "\n",
       "    .dataframe tbody tr th {\n",
       "        vertical-align: top;\n",
       "    }\n",
       "\n",
       "    .dataframe thead th {\n",
       "        text-align: right;\n",
       "    }\n",
       "</style>\n",
       "<table border=\"1\" class=\"dataframe\">\n",
       "  <thead>\n",
       "    <tr style=\"text-align: right;\">\n",
       "      <th></th>\n",
       "      <th>repo_name</th>\n",
       "      <th>pull_request_id</th>\n",
       "      <th>pr_msg_ref_id</th>\n",
       "      <th>pr_created_at</th>\n",
       "      <th>msg_time</th>\n",
       "      <th>comment_text</th>\n",
       "    </tr>\n",
       "  </thead>\n",
       "  <tbody>\n",
       "    <tr>\n",
       "      <th>0</th>\n",
       "      <td>augur</td>\n",
       "      <td>210007</td>\n",
       "      <td>498242</td>\n",
       "      <td>2017-01-23 18:50:08</td>\n",
       "      <td>2017-01-23 20:06:27</td>\n",
       "      <td>@germonprez What is wrong with the pip install...</td>\n",
       "    </tr>\n",
       "    <tr>\n",
       "      <th>1</th>\n",
       "      <td>augur</td>\n",
       "      <td>210007</td>\n",
       "      <td>498243</td>\n",
       "      <td>2017-01-23 18:50:08</td>\n",
       "      <td>2017-01-23 20:48:39</td>\n",
       "      <td>Nothing wrong with it. Happy to change. \\r\\n\\r...</td>\n",
       "    </tr>\n",
       "    <tr>\n",
       "      <th>2</th>\n",
       "      <td>augur</td>\n",
       "      <td>210007</td>\n",
       "      <td>498244</td>\n",
       "      <td>2017-01-23 18:50:08</td>\n",
       "      <td>2017-01-23 20:49:48</td>\n",
       "      <td>@germonprez Sounds good!</td>\n",
       "    </tr>\n",
       "    <tr>\n",
       "      <th>3</th>\n",
       "      <td>augur</td>\n",
       "      <td>210009</td>\n",
       "      <td>498245</td>\n",
       "      <td>2017-02-01 20:33:36</td>\n",
       "      <td>2017-02-02 16:52:16</td>\n",
       "      <td>Thank you!</td>\n",
       "    </tr>\n",
       "    <tr>\n",
       "      <th>4</th>\n",
       "      <td>augur</td>\n",
       "      <td>210010</td>\n",
       "      <td>498246</td>\n",
       "      <td>2017-02-01 20:39:53</td>\n",
       "      <td>2017-02-02 16:50:14</td>\n",
       "      <td>@srobins259 I can't merge this into master bec...</td>\n",
       "    </tr>\n",
       "  </tbody>\n",
       "</table>\n",
       "</div>"
      ],
      "text/plain": [
       "  repo_name  pull_request_id  pr_msg_ref_id       pr_created_at  \\\n",
       "0     augur           210007         498242 2017-01-23 18:50:08   \n",
       "1     augur           210007         498243 2017-01-23 18:50:08   \n",
       "2     augur           210007         498244 2017-01-23 18:50:08   \n",
       "3     augur           210009         498245 2017-02-01 20:33:36   \n",
       "4     augur           210010         498246 2017-02-01 20:39:53   \n",
       "\n",
       "             msg_time                                       comment_text  \n",
       "0 2017-01-23 20:06:27  @germonprez What is wrong with the pip install...  \n",
       "1 2017-01-23 20:48:39  Nothing wrong with it. Happy to change. \\r\\n\\r...  \n",
       "2 2017-01-23 20:49:48                           @germonprez Sounds good!  \n",
       "3 2017-02-02 16:52:16                                         Thank you!  \n",
       "4 2017-02-02 16:50:14  @srobins259 I can't merge this into master bec...  "
      ]
     },
     "execution_count": 6,
     "metadata": {},
     "output_type": "execute_result"
    }
   ],
   "source": [
    "df_pr_comments = pd.DataFrame()\n",
    "\n",
    "for repo_id in repo_set: \n",
    "\n",
    "    pr_query = salc.sql.text(f\"\"\"\n",
    "                SELECT\n",
    "                    r.repo_name,\n",
    "                    prm.pull_request_id,\n",
    "                    prm.pr_msg_ref_id,\n",
    "                    pr.pr_created_at,\n",
    "                    m.msg_timestamp msg_time,\n",
    "\t\t\t\t\tm.msg_text comment_text\n",
    "                FROM\n",
    "                \trepo r,\n",
    "                    pull_requests pr,\n",
    "                    pull_request_message_ref prm, \n",
    "                    message m \n",
    "                WHERE\n",
    "                \tm.msg_id = prm.msg_id AND\n",
    "                    prm.pull_request_id = pr.pull_request_id AND\n",
    "                \tpr.repo_id = r.repo_id AND\n",
    "                    r.repo_id = \\'{repo_id}\\'\n",
    "        \"\"\")\n",
    "    df_current_repo = pd.read_sql(pr_query, con=engine)\n",
    "    df_pr_comments = pd.concat([df_pr_comments, df_current_repo])\n",
    "\n",
    "df_pr_comments = df_pr_comments.reset_index()\n",
    "df_pr_comments.drop(\"index\", axis=1, inplace=True)\n",
    "        \n",
    "df_pr_comments.head()"
   ]
  },
  {
   "cell_type": "code",
   "execution_count": 7,
   "id": "76606fe1-e87d-4d2f-b479-2fa71617cfe2",
   "metadata": {},
   "outputs": [],
   "source": [
    "#IF YOU ONLY WANT TO LOOK AT A ONE OF THE REPOS QUERIED \n",
    "repo_focus = 'augur'\n",
    "df_pr_focus = df_pr[df_pr['repo_name'] == repo_focus]"
   ]
  },
  {
   "cell_type": "markdown",
   "id": "b4584911-01bd-4bef-9dbb-eb5f1cf90ec3",
   "metadata": {},
   "source": [
    "## Median Time to Close/Merge"
   ]
  },
  {
   "cell_type": "code",
   "execution_count": 8,
   "id": "7ab586c4-01f9-4c9c-be63-f912fb903411",
   "metadata": {
    "tags": [
     "hide-output"
    ]
   },
   "outputs": [],
   "source": [
    "df_pr_closed = df_pr_focus[df_pr_focus['merged'].isnull()]\n",
    "df_pr_merged = df_pr_focus[df_pr_focus['merged'].notna()]\n",
    "\n",
    "df_pr_closed['time_to_close'] = (df_pr_closed.closed - df_pr_closed.created)\n",
    "df_pr_merged['time_to_merge'] = (df_pr_merged.merged - df_pr_merged.created)"
   ]
  },
  {
   "cell_type": "code",
   "execution_count": 9,
   "id": "2279a5dc-6039-4708-8059-8827b0f3122a",
   "metadata": {},
   "outputs": [],
   "source": [
    "df_pr_closed_monthly = df_pr_closed['time_to_close'].groupby(df_pr_closed.created.dt.to_period(\"M\")).agg('median')\n",
    "df_pr_merged_monthly = df_pr_merged['time_to_merge'].groupby(df_pr_merged.created.dt.to_period(\"M\")).agg('median')\n",
    "df_pr_closed_monthly = df_pr_closed_monthly.astype('timedelta64[D]')\n",
    "df_pr_merged_monthly = df_pr_merged_monthly.astype('timedelta64[D]')"
   ]
  },
  {
   "cell_type": "code",
   "execution_count": 10,
   "id": "ad9ab2a4-a2f2-4504-aa31-2afa8735e1da",
   "metadata": {},
   "outputs": [
    {
     "data": {
      "image/png": "[encoded data removed]",
      "text/plain": [
       "<Figure size 1080x360 with 1 Axes>"
      ]
     },
     "metadata": {
      "needs_background": "light"
     },
     "output_type": "display_data"
    }
   ],
   "source": [
    "ax = plt.gca()\n",
    "\n",
    "plt.xlabel(\"Month\")\n",
    "plt.ylabel(\"Median time to (days)\")\n",
    "plt.title(\"Median Time to Close/Merge (Monthly)\")\n",
    "\n",
    "df_pr_merged_monthly.plot(kind='line',x='created',y='time_to_merge',ax=ax,legend = True)\n",
    "df_pr_closed_monthly.plot(kind='line',x='created',y='time_to_close', color='red', ax=ax,legend = True)\n",
    "plt.show()"
   ]
  },
  {
   "cell_type": "markdown",
   "id": "c3a32339-3484-4bc5-82ff-a9ed15b542da",
   "metadata": {},
   "source": [
    "## Monthly PRs Close/Merged"
   ]
  },
  {
   "cell_type": "code",
   "execution_count": 11,
   "id": "b5037ab8-7e14-4ae7-991c-072f2bdc35f6",
   "metadata": {
    "tags": []
   },
   "outputs": [],
   "source": [
    "df_pr_c_m_monthly = df_pr_focus[['merged','closed']].groupby(df_pr.closed.dt.to_period(\"M\")).agg('count')"
   ]
  },
  {
   "cell_type": "code",
   "execution_count": 12,
   "id": "1a2f2ae0-0266-47ef-bdfc-b5deaca1826d",
   "metadata": {},
   "outputs": [
    {
     "data": {
      "image/png": "[encoded data removed]",
      "text/plain": [
       "<Figure size 1080x360 with 1 Axes>"
      ]
     },
     "metadata": {
      "needs_background": "light"
     },
     "output_type": "display_data"
    }
   ],
   "source": [
    "df_pr_c_m_monthly.plot.bar()\n",
    "\n",
    "plt.xlabel(\"Month\")\n",
    "plt.ylabel(\"# PRs\")\n",
    "plt.title(\"# Monthly PRs Closed/Merged for \"+repo_focus.capitalize() +\" repo\")\n",
    "plt.show()"
   ]
  },
  {
   "cell_type": "markdown",
   "id": "f51b0ee4-fa6f-4c73-bf1f-4b190a81ccef",
   "metadata": {},
   "source": [
    "## Percent Pull Requests merged vs not "
   ]
  },
  {
   "cell_type": "code",
   "execution_count": 13,
   "id": "d3d0106f-dbd0-4a96-9ef8-ca11490ba5ec",
   "metadata": {},
   "outputs": [],
   "source": [
    "df_pr_compare = df_pr_focus.dropna(subset=['closed'])\n",
    "df_pr_compare[\"merged_in\"] = False\n",
    "df_pr_compare[\"merged_in\"] = df_pr_compare[\"merged_in\"].where(df_pr_compare[\"merged\"].isna(),other= True)"
   ]
  },
  {
   "cell_type": "code",
   "execution_count": 14,
   "id": "763a3f47-dd51-4274-a1fa-5a117a189560",
   "metadata": {},
   "outputs": [],
   "source": [
    "percent = df_pr_compare[\"pull_request\"].groupby(df_pr_compare.merged_in).agg('count')"
   ]
  },
  {
   "cell_type": "code",
   "execution_count": 15,
   "id": "a31f923d-501f-4fba-9b0f-df245db7ec15",
   "metadata": {},
   "outputs": [
    {
     "data": {
      "image/png": "[encoded data removed]",
      "text/plain": [
       "<Figure size 1080x576 with 1 Axes>"
      ]
     },
     "metadata": {},
     "output_type": "display_data"
    }
   ],
   "source": [
    "labels = [\"Not Merged\",\"Merged\"]\n",
    "percent.plot.pie(figsize=(15,8),autopct='%1.1f%%',startangle=90,pctdistance=0.9,labels=labels)\n",
    "plt.title(\"Merged PR vs Not Merged\")\n",
    "plt.tight_layout()\n",
    "plt.show()"
   ]
  },
  {
   "cell_type": "markdown",
   "id": "8360245f-4b11-4742-8b2f-72264724536c",
   "metadata": {},
   "source": [
    "## Time to First Response PR"
   ]
  },
  {
   "cell_type": "code",
   "execution_count": 16,
   "id": "0ea4773d-9594-407c-b3dc-a0b2bb9da032",
   "metadata": {},
   "outputs": [],
   "source": [
    "df_pr_comments_focus = df_pr_comments[df_pr_comments['repo_name'] == repo_focus]\n",
    "df_pr_comments_focus = df_pr_comments_focus.sort_values(by= \"msg_time\")\n",
    "df_pr_comments_focus = df_pr_comments_focus.reset_index(drop=True)\n",
    "df_pr_comments_focus = df_pr_comments_focus.drop_duplicates(subset='pull_request_id', keep='first')"
   ]
  },
  {
   "cell_type": "code",
   "execution_count": 17,
   "id": "512139d2-fcb4-4597-8c06-07d23c3b646a",
   "metadata": {},
   "outputs": [],
   "source": [
    "not_answered = df_pr_focus.shape[0]-df_pr_comments_focus.shape[0]\n",
    "answered = df_pr_comments_focus.shape[0]"
   ]
  },
  {
   "cell_type": "markdown",
   "id": "7715c107-e35b-4588-a8c9-9b2986022985",
   "metadata": {},
   "source": [
    "### Pie Chart- Reponse Percent"
   ]
  },
  {
   "cell_type": "code",
   "execution_count": 18,
   "id": "b10cd44b-a3dc-47ce-b27b-88d1f4f41a50",
   "metadata": {},
   "outputs": [
    {
     "data": {
      "image/png": "[encoded data removed]",
      "text/plain": [
       "<Figure size 1080x360 with 1 Axes>"
      ]
     },
     "metadata": {},
     "output_type": "display_data"
    }
   ],
   "source": [
    "labels = [\"Answered\",\"Not Answered\"]\n",
    "sizes = [answered,not_answered]\n",
    "plt.pie(sizes,autopct='%1.1f%%',startangle=90,pctdistance=0.9,labels=labels)\n",
    "plt.title(\"Response Percent for PRs\")\n",
    "plt.tight_layout()\n",
    "plt.show()"
   ]
  },
  {
   "cell_type": "code",
   "execution_count": 19,
   "id": "3395dd57-0068-435c-975f-7b2421c4c300",
   "metadata": {},
   "outputs": [],
   "source": [
    "df_pr_comments_focus['time_to_response'] = (df_pr_comments_focus.msg_time - df_pr_comments_focus.pr_created_at)\n",
    "df_pr_comments_focus = df_pr_comments_focus[df_pr_comments_focus['time_to_response'] >= pd.Timedelta(0)]"
   ]
  },
  {
   "cell_type": "code",
   "execution_count": 20,
   "id": "9c839ce6-d4fb-4657-8bcd-6a2d7f3c5b3b",
   "metadata": {},
   "outputs": [],
   "source": [
    "df_pr_comments_monthly = df_pr_comments_focus['time_to_response'].groupby(df_pr_comments_focus.pr_created_at.dt.to_period(\"M\")).agg('mean')\n",
    "df_pr_comments_monthly = df_pr_comments_monthly.astype('timedelta64[D]')"
   ]
  },
  {
   "cell_type": "markdown",
   "id": "d4f7987a-af92-46d4-ae3c-5c43bc2c3606",
   "metadata": {},
   "source": [
    "### Bar Chart: Median time of First Reponse"
   ]
  },
  {
   "cell_type": "code",
   "execution_count": 21,
   "id": "d7668281-6587-43d2-a027-7c93bb61e17e",
   "metadata": {
    "tags": []
   },
   "outputs": [
    {
     "data": {
      "image/png": "[encoded data removed]",
      "text/plain": [
       "<Figure size 1080x360 with 1 Axes>"
      ]
     },
     "metadata": {
      "needs_background": "light"
     },
     "output_type": "display_data"
    }
   ],
   "source": [
    "df_pr_comments_monthly.plot.bar()\n",
    "plt.xlabel(\"Month\")\n",
    "plt.ylabel(\"Days\")\n",
    "plt.title(\"Mean Time to First Response (Monthly)\")\n",
    "plt.show()"
   ]
  },
  {
   "cell_type": "code",
   "execution_count": 22,
   "id": "9b2c04a2-68aa-44cf-a949-630ca0e996d2",
   "metadata": {},
   "outputs": [
    {
     "data": {
      "text/html": [
       "<div>\n",
       "<style scoped>\n",
       "    .dataframe tbody tr th:only-of-type {\n",
       "        vertical-align: middle;\n",
       "    }\n",
       "\n",
       "    .dataframe tbody tr th {\n",
       "        vertical-align: top;\n",
       "    }\n",
       "\n",
       "    .dataframe thead th {\n",
       "        text-align: right;\n",
       "    }\n",
       "</style>\n",
       "<table border=\"1\" class=\"dataframe\">\n",
       "  <thead>\n",
       "    <tr style=\"text-align: right;\">\n",
       "      <th></th>\n",
       "      <th>pull_request_id</th>\n",
       "      <th>pr_msg_ref_id</th>\n",
       "      <th>time_to_response</th>\n",
       "    </tr>\n",
       "  </thead>\n",
       "  <tbody>\n",
       "    <tr>\n",
       "      <th>count</th>\n",
       "      <td>271.000000</td>\n",
       "      <td>271.000000</td>\n",
       "      <td>271</td>\n",
       "    </tr>\n",
       "    <tr>\n",
       "      <th>mean</th>\n",
       "      <td>211736.428044</td>\n",
       "      <td>500125.011070</td>\n",
       "      <td>2 days 13:02:08.948339483</td>\n",
       "    </tr>\n",
       "    <tr>\n",
       "      <th>std</th>\n",
       "      <td>2723.651467</td>\n",
       "      <td>2603.736202</td>\n",
       "      <td>13 days 08:51:00.163894737</td>\n",
       "    </tr>\n",
       "    <tr>\n",
       "      <th>min</th>\n",
       "      <td>210007.000000</td>\n",
       "      <td>498242.000000</td>\n",
       "      <td>0 days 00:00:01</td>\n",
       "    </tr>\n",
       "    <tr>\n",
       "      <th>25%</th>\n",
       "      <td>210133.000000</td>\n",
       "      <td>498380.500000</td>\n",
       "      <td>0 days 00:00:39</td>\n",
       "    </tr>\n",
       "    <tr>\n",
       "      <th>50%</th>\n",
       "      <td>210292.000000</td>\n",
       "      <td>498509.000000</td>\n",
       "      <td>0 days 01:39:17</td>\n",
       "    </tr>\n",
       "    <tr>\n",
       "      <th>75%</th>\n",
       "      <td>213622.500000</td>\n",
       "      <td>503704.500000</td>\n",
       "      <td>1 days 17:02:23.500000</td>\n",
       "    </tr>\n",
       "    <tr>\n",
       "      <th>max</th>\n",
       "      <td>219695.000000</td>\n",
       "      <td>504676.000000</td>\n",
       "      <td>209 days 08:17:21</td>\n",
       "    </tr>\n",
       "  </tbody>\n",
       "</table>\n",
       "</div>"
      ],
      "text/plain": [
       "       pull_request_id  pr_msg_ref_id            time_to_response\n",
       "count       271.000000     271.000000                         271\n",
       "mean     211736.428044  500125.011070   2 days 13:02:08.948339483\n",
       "std        2723.651467    2603.736202  13 days 08:51:00.163894737\n",
       "min      210007.000000  498242.000000             0 days 00:00:01\n",
       "25%      210133.000000  498380.500000             0 days 00:00:39\n",
       "50%      210292.000000  498509.000000             0 days 01:39:17\n",
       "75%      213622.500000  503704.500000      1 days 17:02:23.500000\n",
       "max      219695.000000  504676.000000           209 days 08:17:21"
      ]
     },
     "execution_count": 22,
     "metadata": {},
     "output_type": "execute_result"
    }
   ],
   "source": [
    "df_pr_comments_focus.describe()"
   ]
  }
 ],
 "metadata": {
  "kernelspec": {
   "display_name": "Python 3",
   "language": "python",
   "name": "python3"
  },
  "language_info": {
   "codemirror_mode": {
    "name": "ipython",
    "version": 3
   },
   "file_extension": ".py",
   "mimetype": "text/x-python",
   "name": "python",
   "nbconvert_exporter": "python",
   "pygments_lexer": "ipython3",
   "version": "3.8.6"
  }
 },
 "nbformat": 4,
 "nbformat_minor": 5
}
